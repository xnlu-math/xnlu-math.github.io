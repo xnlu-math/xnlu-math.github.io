{
 "cells": [
  {
   "cell_type": "markdown",
   "metadata": {},
   "source": [
    "# Advanced Applied Math II (Intensive course in Kobe Univ., Aug. 2021)\n",
    "### Instructor: Xiao-Nan Lu (Univ. Yamanashi)"
   ]
  },
  {
   "cell_type": "markdown",
   "metadata": {},
   "source": [
    "# Day 5: Cyclic Designs and Their Applications"
   ]
  },
  {
   "cell_type": "markdown",
   "metadata": {},
   "source": [
    "## Example: autocorrelation of binary sequences"
   ]
  },
  {
   "cell_type": "code",
   "execution_count": 1,
   "metadata": {},
   "outputs": [],
   "source": [
    "import math\n",
    "import random\n",
    "import numpy as np\n",
    "\n",
    "# generate a random binary sequence of length n\n",
    "def rand_seq(n):\n",
    "    return np.random.randint(2, size=n)\n",
    "    \n",
    "# autocorrelation of a binary sequence at shift w\n",
    "def autocorrelation_seq(seq, w):\n",
    "    n = len(seq)\n",
    "    d = [ seq[(t+w) % n] - seq[t] for t in range(n) ]\n",
    "    pm_d = [ 1 if d[i]%2==0 else -1 for i in range(n) ]\n",
    "    #print(pm_d)\n",
    "    return sum(pm_d)\n",
    "\n",
    "# show all autocorrelation\n",
    "def show_autocorrelation_seq(seq):\n",
    "    print(\"sequence = \", seq)\n",
    "    n = len(seq)\n",
    "    autocr_li = []\n",
    "    for w in range(n):\n",
    "        auto_cr_value = autocorrelation_seq(seq, w)\n",
    "        print(\"ρ(%d) = \" % w, auto_cr_value)\n",
    "        autocr_li.append(abs(auto_cr_value))\n",
    "    max_auto_magnitude = max(autocr_li[1:])\n",
    "    print(\"The autocorrelation magnitude = \", max_auto_magnitude, \"\\n\")\n"
   ]
  },
  {
   "cell_type": "code",
   "execution_count": 2,
   "metadata": {},
   "outputs": [
    {
     "name": "stdout",
     "output_type": "stream",
     "text": [
      "sequence =  [1, 0, 0, 0]\n",
      "ρ(0) =  4\n",
      "ρ(1) =  0\n",
      "ρ(2) =  0\n",
      "ρ(3) =  0\n",
      "The autocorrelation magnitude =  0 \n",
      "\n",
      "sequence =  [1, 0, 0, 0, 0]\n",
      "ρ(0) =  5\n",
      "ρ(1) =  1\n",
      "ρ(2) =  1\n",
      "ρ(3) =  1\n",
      "ρ(4) =  1\n",
      "The autocorrelation magnitude =  1 \n",
      "\n",
      "sequence =  [1, 0, 0, 0, 0, 0]\n",
      "ρ(0) =  6\n",
      "ρ(1) =  2\n",
      "ρ(2) =  2\n",
      "ρ(3) =  2\n",
      "ρ(4) =  2\n",
      "ρ(5) =  2\n",
      "The autocorrelation magnitude =  2 \n",
      "\n",
      "sequence =  [1, 0, 0, 0, 0, 0, 0, 0]\n",
      "ρ(0) =  8\n",
      "ρ(1) =  4\n",
      "ρ(2) =  4\n",
      "ρ(3) =  4\n",
      "ρ(4) =  4\n",
      "ρ(5) =  4\n",
      "ρ(6) =  4\n",
      "ρ(7) =  4\n",
      "The autocorrelation magnitude =  4 \n",
      "\n"
     ]
    }
   ],
   "source": [
    "# some good examples\n",
    "s = [1, 0, 0, 0]\n",
    "show_autocorrelation_seq(s) \n",
    "s = [1, 0, 0, 0, 0]\n",
    "show_autocorrelation_seq(s) \n",
    "s = [1, 0, 0, 0, 0, 0]\n",
    "show_autocorrelation_seq(s) \n",
    "s = [1, 0, 0, 0, 0, 0, 0, 0]\n",
    "show_autocorrelation_seq(s) "
   ]
  },
  {
   "cell_type": "code",
   "execution_count": 3,
   "metadata": {},
   "outputs": [
    {
     "name": "stdout",
     "output_type": "stream",
     "text": [
      "sequence =  [0 0 1 1 0 1 0 1 0 0]\n",
      "ρ(0) =  10\n",
      "ρ(1) =  -2\n",
      "ρ(2) =  2\n",
      "ρ(3) =  -2\n",
      "ρ(4) =  -2\n",
      "ρ(5) =  2\n",
      "ρ(6) =  -2\n",
      "ρ(7) =  -2\n",
      "ρ(8) =  2\n",
      "ρ(9) =  -2\n",
      "The autocorrelation magnitude =  2 \n",
      "\n"
     ]
    }
   ],
   "source": [
    "n = 10\n",
    "show_autocorrelation_seq(rand_seq(n)) "
   ]
  },
  {
   "cell_type": "code",
   "execution_count": null,
   "metadata": {},
   "outputs": [],
   "source": []
  }
 ],
 "metadata": {
  "kernelspec": {
   "display_name": "Python 3",
   "language": "python",
   "name": "python3"
  },
  "language_info": {
   "codemirror_mode": {
    "name": "ipython",
    "version": 3
   },
   "file_extension": ".py",
   "mimetype": "text/x-python",
   "name": "python",
   "nbconvert_exporter": "python",
   "pygments_lexer": "ipython3",
   "version": "3.8.5"
  }
 },
 "nbformat": 4,
 "nbformat_minor": 4
}
