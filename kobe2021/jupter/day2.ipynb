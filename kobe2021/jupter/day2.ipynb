{
 "cells": [
  {
   "cell_type": "markdown",
   "metadata": {},
   "source": [
    "# Advanced Applied Math II (Intensive course in Kobe Univ., Aug. 2021)\n",
    "### Instructor: Xiao-Nan Lu (Univ. Yamanashi)"
   ]
  },
  {
   "cell_type": "markdown",
   "metadata": {},
   "source": [
    "# Day 2: Hadamard Matrices & BIB Designs"
   ]
  },
  {
   "cell_type": "markdown",
   "metadata": {},
   "source": [
    "## Example: Hadamard matrix of dimension $2$"
   ]
  },
  {
   "cell_type": "code",
   "execution_count": 1,
   "metadata": {},
   "outputs": [
    {
     "name": "stdout",
     "output_type": "stream",
     "text": [
      "H2 = \n",
      " [[ 1  1]\n",
      " [ 1 -1]]\n",
      "\n",
      " H2^T H2 = \n",
      " [[2 0]\n",
      " [0 2]]\n"
     ]
    }
   ],
   "source": [
    "import numpy as np\n",
    "\n",
    "H2 = np.array([ [1, 1],  [1, -1] ])\n",
    "print(\"H2 = \\n\", H2) \n",
    "print(\"\\n H2^T H2 = \\n\", np.matmul(H2.transpose(), H2))"
   ]
  },
  {
   "cell_type": "markdown",
   "metadata": {},
   "source": [
    "## Example: Kronecker product of Hadamard matrices of dimension $2^m$"
   ]
  },
  {
   "cell_type": "code",
   "execution_count": 2,
   "metadata": {},
   "outputs": [
    {
     "name": "stdout",
     "output_type": "stream",
     "text": [
      "This is an Hadamard matrix of dimension 8 \n",
      " [[ 1  1  1  1  1  1  1  1]\n",
      " [ 1 -1  1 -1  1 -1  1 -1]\n",
      " [ 1  1 -1 -1  1  1 -1 -1]\n",
      " [ 1 -1 -1  1  1 -1 -1  1]\n",
      " [ 1  1  1  1 -1 -1 -1 -1]\n",
      " [ 1 -1  1 -1 -1  1 -1  1]\n",
      " [ 1  1 -1 -1 -1 -1  1  1]\n",
      " [ 1 -1 -1  1 -1  1  1 -1]]\n",
      "\n",
      " H^T H = \n",
      " [[8 0 0 0 0 0 0 0]\n",
      " [0 8 0 0 0 0 0 0]\n",
      " [0 0 8 0 0 0 0 0]\n",
      " [0 0 0 8 0 0 0 0]\n",
      " [0 0 0 0 8 0 0 0]\n",
      " [0 0 0 0 0 8 0 0]\n",
      " [0 0 0 0 0 0 8 0]\n",
      " [0 0 0 0 0 0 0 8]]\n"
     ]
    }
   ],
   "source": [
    "m = 3\n",
    "\n",
    "H = H2 # start from 2-dimensional Hadamard matrix\n",
    "for i in range(m-1):\n",
    "    H = np.kron(H, H2) # Kronecker product of H and H2 \n",
    "    \n",
    "print(\"This is an Hadamard matrix of dimension %d \\n\" % 2**m, H)\n",
    "print(\"\\n H^T H = \\n\", np.matmul(H.transpose(), H))"
   ]
  },
  {
   "cell_type": "markdown",
   "metadata": {},
   "source": [
    "## Example: Legendre symbol "
   ]
  },
  {
   "cell_type": "code",
   "execution_count": 3,
   "metadata": {},
   "outputs": [
    {
     "name": "stdout",
     "output_type": "stream",
     "text": [
      "[0, 1, 1, -1, 1, -1, -1]\n",
      "1^2 = 1 mod 7\n",
      "2^2 = 4 mod 7\n",
      "3^2 = 2 mod 7\n",
      "4^2 = 2 mod 7\n",
      "5^2 = 4 mod 7\n",
      "6^2 = 1 mod 7\n"
     ]
    }
   ],
   "source": [
    "def Legendre(a, p):\n",
    "    a = a % p\n",
    "    if a == 0:\n",
    "        return 0\n",
    "    if a in [i*i % p for i in range(1, (p+1)//2) ]:\n",
    "        return 1\n",
    "    else:\n",
    "        return -1;\n",
    "\n",
    "p = 7\n",
    "print([ Legendre(a, p) for a in range(p)])\n",
    "\n",
    "for i in range(1, p):\n",
    "    print(\"%d^2 = %d mod %d\" % (i, i*i % p, p))\n",
    "    "
   ]
  },
  {
   "cell_type": "markdown",
   "metadata": {},
   "source": [
    "## Example: spring balance weighing design"
   ]
  },
  {
   "cell_type": "code",
   "execution_count": 4,
   "metadata": {},
   "outputs": [],
   "source": [
    "def inform_mat(d):\n",
    "    return np.dot(np.transpose(d), d);"
   ]
  },
  {
   "cell_type": "code",
   "execution_count": 5,
   "metadata": {},
   "outputs": [
    {
     "name": "stdout",
     "output_type": "stream",
     "text": [
      "D2= \n",
      " [[1 1 0 1 0 0 0]\n",
      " [0 1 1 0 1 0 0]\n",
      " [0 0 1 1 0 1 0]\n",
      " [0 0 0 1 1 0 1]\n",
      " [1 0 0 0 1 1 0]\n",
      " [0 1 0 0 0 1 1]\n",
      " [1 0 1 0 0 0 1]]\n",
      "\n",
      " D2^T * D2= \n",
      " [[3 1 1 1 1 1 1]\n",
      " [1 3 1 1 1 1 1]\n",
      " [1 1 3 1 1 1 1]\n",
      " [1 1 1 3 1 1 1]\n",
      " [1 1 1 1 3 1 1]\n",
      " [1 1 1 1 1 3 1]\n",
      " [1 1 1 1 1 1 3]]\n"
     ]
    }
   ],
   "source": [
    "from scipy.linalg import circulant\n",
    "\n",
    "d = circulant([1, 0, 0, 0, 1, 0, 1])\n",
    "print(\"D2= \\n\", d)\n",
    "\n",
    "m = inform_mat(d)\n",
    "print(\"\\n D2^T * D2= \\n\", m)"
   ]
  },
  {
   "cell_type": "code",
   "execution_count": 6,
   "metadata": {},
   "outputs": [
    {
     "name": "stdout",
     "output_type": "stream",
     "text": [
      "[[ 2. -1. -1. -1.  2. -1.  2.]\n",
      " [ 2.  2. -1. -1. -1.  2. -1.]\n",
      " [-1.  2.  2. -1. -1. -1.  2.]\n",
      " [ 2. -1.  2.  2. -1. -1. -1.]\n",
      " [-1.  2. -1.  2.  2. -1. -1.]\n",
      " [-1. -1.  2. -1.  2.  2. -1.]\n",
      " [-1. -1. -1.  2. -1.  2.  2.]]\n"
     ]
    }
   ],
   "source": [
    "inv_m = np.linalg.inv(m)\n",
    "estimate_m = np.dot(inv_m, np.transpose(d))\n",
    "print(6*estimate_m)"
   ]
  },
  {
   "cell_type": "markdown",
   "metadata": {},
   "source": [
    "## Example: check whether $(v, k, \\lambda)$ is admissible parameter for BIBD"
   ]
  },
  {
   "cell_type": "code",
   "execution_count": 7,
   "metadata": {},
   "outputs": [
    {
     "name": "stdout",
     "output_type": "stream",
     "text": [
      "(15, 3, 2) is admissible? True \n",
      "\n",
      "r = 7/2 is not an integer!\n",
      "(8, 3, 1) is admissible? False \n",
      "\n",
      "b = 114/4 is not an integer!\n",
      "(19, 4, 1) is admissible? False \n",
      "\n",
      "(22, 7, 2) is admissible? True \n",
      "\n",
      "(43, 7, 1) is admissible? True \n",
      "\n"
     ]
    }
   ],
   "source": [
    "def is_admissible_BIBD(v, k, lamb):\n",
    "    # use r*(k-1) = lamb * (v-1)\n",
    "    r_res = lamb * (v-1) % (k-1)\n",
    "    if r_res > 0:\n",
    "        print(\"r = %d/%d is not an integer!\" % ( lamb * (v-1), k-1))\n",
    "        return False\n",
    "    else:\n",
    "        # use v*r = b*k\n",
    "        r = lamb * (v-1) // (k-1)\n",
    "        b_res = v * r % k\n",
    "        if b_res > 0:\n",
    "            print(\"b = %d/%d is not an integer!\" % (v * r, k))\n",
    "            return False\n",
    "    return True\n",
    "# end def   \n",
    "\n",
    "def show_admissible_BIBD(v, k, lamb):\n",
    "    print(\"(%d, %d, %d) is admissible?\" % (v, k, lamb), is_admissible_BIBD(v, k, lamb), \"\\n\") \n",
    "# end def   \n",
    "\n",
    "show_admissible_BIBD(15, 3, 2)\n",
    "show_admissible_BIBD(8, 3, 1) # not admissible\n",
    "show_admissible_BIBD(19, 4, 1) # not admissible\n",
    "show_admissible_BIBD(22, 7, 2) # admissible but not exist\n",
    "show_admissible_BIBD(43, 7, 1) # admissible but not exist"
   ]
  },
  {
   "cell_type": "markdown",
   "metadata": {},
   "source": [
    "## Example: Cyclic BIBD by developing the base blocks"
   ]
  },
  {
   "cell_type": "code",
   "execution_count": 8,
   "metadata": {},
   "outputs": [
    {
     "name": "stdout",
     "output_type": "stream",
     "text": [
      "Cyclic (7,3,1) BIBD: \n",
      " [[0 1 3]\n",
      " [1 2 4]\n",
      " [2 3 5]\n",
      " [3 4 6]\n",
      " [0 4 5]\n",
      " [1 5 6]\n",
      " [0 2 6]] \n",
      "\n",
      "Cyclic (15,3,1) BIBD: \n",
      " [[ 0  1  4]\n",
      " [ 1  2  5]\n",
      " [ 2  3  6]\n",
      " [ 3  4  7]\n",
      " [ 4  5  8]\n",
      " [ 5  6  9]\n",
      " [ 6  7 10]\n",
      " [ 7  8 11]\n",
      " [ 8  9 12]\n",
      " [ 9 10 13]\n",
      " [10 11 14]\n",
      " [ 0 11 12]\n",
      " [ 1 12 13]\n",
      " [ 2 13 14]\n",
      " [ 0  3 14]\n",
      " [ 0  2  8]\n",
      " [ 1  3  9]\n",
      " [ 2  4 10]\n",
      " [ 3  5 11]\n",
      " [ 4  6 12]\n",
      " [ 5  7 13]\n",
      " [ 6  8 14]\n",
      " [ 0  7  9]\n",
      " [ 1  8 10]\n",
      " [ 2  9 11]\n",
      " [ 3 10 12]\n",
      " [ 4 11 13]\n",
      " [ 5 12 14]\n",
      " [ 0  6 13]\n",
      " [ 1  7 14]\n",
      " [ 0  5 10]\n",
      " [ 1  6 11]\n",
      " [ 2  7 12]\n",
      " [ 3  8 13]\n",
      " [ 4  9 14]] \n",
      "\n"
     ]
    }
   ],
   "source": [
    "def dev_base_block(v, base_blocks):\n",
    "    block_li = []\n",
    "    for b in base_blocks:\n",
    "        block_li += [ sorted(list( (np.array(b) + i) % v)) for i in range(v) ]\n",
    "    # remove duplicated blocks\n",
    "    final_block_li = []\n",
    "    for b in block_li:\n",
    "        if b not in final_block_li:\n",
    "            final_block_li.append(b)\n",
    "    return final_block_li\n",
    "# end def \n",
    "\n",
    "v = 7\n",
    "base_blocks = [[0, 1, 3]] \n",
    "print(\"Cyclic (%d,3,1) BIBD: \\n\" % v, np.array(dev_base_block(v, base_blocks)), \"\\n\")\n",
    "\n",
    "v = 15\n",
    "base_blocks = [[0,1,4], [0,2,8], [0,5,10]] \n",
    "print(\"Cyclic (%d,3,1) BIBD: \\n\" % v, np.array(dev_base_block(v, base_blocks)), \"\\n\")\n"
   ]
  },
  {
   "cell_type": "markdown",
   "metadata": {},
   "source": [
    "## Example: Primitive root mod $p$"
   ]
  },
  {
   "cell_type": "code",
   "execution_count": 9,
   "metadata": {},
   "outputs": [
    {
     "name": "stdout",
     "output_type": "stream",
     "text": [
      "g^1 = 2\n",
      "g^2 = 4\n",
      "g^3 = 8\n",
      "g^4 = 3\n",
      "g^5 = 6\n",
      "g^6 = 12\n",
      "g^7 = 11\n",
      "g^8 = 9\n",
      "g^9 = 5\n",
      "g^10 = 10\n",
      "g^11 = 7\n",
      "g^12 = 1\n",
      "g = 2 is of order 12.\n",
      "Hence g = 2  is a primitive root mod 13.\n"
     ]
    }
   ],
   "source": [
    "p = 13 # p is a prime\n",
    "g = 2 # 2 is primitive mod 13\n",
    "cyc_gp = [1]\n",
    "ord_g = 0\n",
    "for i in range(1, p+1):\n",
    "    ele = cyc_gp[i-1] * g % p\n",
    "    cyc_gp.append(ele)\n",
    "    print(\"g^%d = %d\" % (i, ele))\n",
    "    if ele == 1:\n",
    "        ord_g = i\n",
    "        break;\n",
    "print(\"g = %d is of order %d.\" % (g, ord_g))\n",
    "if ord_g == p-1:\n",
    "    print(\"Hence g = %d  is a primitive root mod %d.\" % (g, p) )\n"
   ]
  },
  {
   "cell_type": "markdown",
   "metadata": {},
   "source": [
    "## Example: cyclotomic construction for STS$(13)$"
   ]
  },
  {
   "cell_type": "code",
   "execution_count": 10,
   "metadata": {},
   "outputs": [
    {
     "name": "stdout",
     "output_type": "stream",
     "text": [
      "Cyclic (13,3,1) BIBD: \n",
      " [[ 1  3  9]\n",
      " [ 2  4 10]\n",
      " [ 3  5 11]\n",
      " [ 4  6 12]\n",
      " [ 0  5  7]\n",
      " [ 1  6  8]\n",
      " [ 2  7  9]\n",
      " [ 3  8 10]\n",
      " [ 4  9 11]\n",
      " [ 5 10 12]\n",
      " [ 0  6 11]\n",
      " [ 1  7 12]\n",
      " [ 0  2  8]\n",
      " [ 2  5  6]\n",
      " [ 3  6  7]\n",
      " [ 4  7  8]\n",
      " [ 5  8  9]\n",
      " [ 6  9 10]\n",
      " [ 7 10 11]\n",
      " [ 8 11 12]\n",
      " [ 0  9 12]\n",
      " [ 0  1 10]\n",
      " [ 1  2 11]\n",
      " [ 2  3 12]\n",
      " [ 0  3  4]\n",
      " [ 1  4  5]] \n",
      "\n"
     ]
    }
   ],
   "source": [
    "v = 13\n",
    "base_blocks = [[1,3,9], [2,6,5]] \n",
    "print(\"Cyclic (%d,3,1) BIBD: \\n\" % v, np.array(dev_base_block(v, base_blocks)), \"\\n\")"
   ]
  },
  {
   "cell_type": "markdown",
   "metadata": {},
   "source": [
    "## Example: HDP$(v)$ with $v = 18s+1$, $s \\geq 2$"
   ]
  },
  {
   "cell_type": "code",
   "execution_count": 11,
   "metadata": {},
   "outputs": [
    {
     "name": "stdout",
     "output_type": "stream",
     "text": [
      "HDP(37): \n",
      " [[ 1  9 10]\n",
      " [ 4  8 12]\n",
      " [ 2 16 18]\n",
      " [ 5 15 17]\n",
      " [ 3 11 14]\n",
      " [ 6  7 13]] \n",
      "\n",
      "[1, 2, 3, 4, 5, 6, 7, 8, 9, 10, 11, 12, 13, 14, 15, 16, 17, 18]\n"
     ]
    }
   ],
   "source": [
    "def reflect_triple(triple, v):\n",
    "    new_triple=[]\n",
    "    for x in triple:\n",
    "        if x <= (v-1)/2:\n",
    "            new_triple.append(x)\n",
    "        else:\n",
    "            new_triple.append(v-x)\n",
    "    return new_triple\n",
    "# end def\n",
    "\n",
    "s = 2\n",
    "v = 18 * s + 1\n",
    "hdp = []\n",
    "for r in range(s):\n",
    "    hdp.append( reflect_triple([3*r + 1, 4*s-r+1, 4*s+2*r+2], v) )\n",
    "for r in range(s):\n",
    "    hdp.append( reflect_triple([3*r + 2, 8*s-r, 8*s+2*r+2], v) )\n",
    "for r in range(s-1):\n",
    "    hdp.append( reflect_triple([3*r + 3, 6*s-2*r-1, 6*s+r+2], v) )\n",
    "hdp.append( [3*s, 3*s+1, 6*s+1] )\n",
    "\n",
    "print(\"HDP(%d): \\n\" % v, np.array(hdp), \"\\n\")\n",
    "\n",
    "union_hdp = []\n",
    "for triple in hdp:\n",
    "    union_hdp += triple\n",
    "print(sorted(union_hdp) )"
   ]
  },
  {
   "cell_type": "code",
   "execution_count": 12,
   "metadata": {},
   "outputs": [
    {
     "name": "stdout",
     "output_type": "stream",
     "text": [
      "Last updated at  2021-08-26 12:54:15\n"
     ]
    }
   ],
   "source": [
    "from datetime import datetime\n",
    "from pytz import timezone\n",
    "\n",
    "lastest_time = datetime.now(timezone('Asia/Tokyo'))\n",
    "print(\"Last updated at \", lastest_time.strftime('%Y-%m-%d %H:%M:%S'))"
   ]
  }
 ],
 "metadata": {
  "kernelspec": {
   "display_name": "Python 3",
   "language": "python",
   "name": "python3"
  },
  "language_info": {
   "codemirror_mode": {
    "name": "ipython",
    "version": 3
   },
   "file_extension": ".py",
   "mimetype": "text/x-python",
   "name": "python",
   "nbconvert_exporter": "python",
   "pygments_lexer": "ipython3",
   "version": "3.8.5"
  }
 },
 "nbformat": 4,
 "nbformat_minor": 4
}
