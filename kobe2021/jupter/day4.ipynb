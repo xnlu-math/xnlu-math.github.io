{
 "cells": [
  {
   "cell_type": "markdown",
   "metadata": {},
   "source": [
    "# Advanced Applied Math II (Intensive course in Kobe Univ., Aug. 2021)\n",
    "### Instructor: Xiao-Nan Lu (Univ. Yamanashi)"
   ]
  },
  {
   "cell_type": "markdown",
   "metadata": {},
   "source": [
    "# Day 4: Error-Correcting Codes"
   ]
  },
  {
   "cell_type": "markdown",
   "metadata": {},
   "source": [
    "## Example: Encoding using $[7,4]$ Hamming code"
   ]
  },
  {
   "cell_type": "code",
   "execution_count": 1,
   "metadata": {},
   "outputs": [
    {
     "name": "stdout",
     "output_type": "stream",
     "text": [
      "Generator matrix = \n",
      " [[1. 0. 0. 0. 0. 1. 1.]\n",
      " [0. 1. 0. 0. 1. 0. 1.]\n",
      " [0. 0. 1. 0. 1. 1. 0.]\n",
      " [0. 0. 0. 1. 1. 1. 1.]]\n",
      "All codewords: \n",
      "[0. 0. 0. 0. 0. 0. 0.]\n",
      "[0. 0. 0. 1. 1. 1. 1.]\n",
      "[0. 0. 1. 0. 1. 1. 0.]\n",
      "[0. 0. 1. 1. 0. 0. 1.]\n",
      "[0. 1. 0. 0. 1. 0. 1.]\n",
      "[0. 1. 0. 1. 0. 1. 0.]\n",
      "[0. 1. 1. 0. 0. 1. 1.]\n",
      "[0. 1. 1. 1. 1. 0. 0.]\n",
      "[1. 0. 0. 0. 0. 1. 1.]\n",
      "[1. 0. 0. 1. 1. 0. 0.]\n",
      "[1. 0. 1. 0. 1. 0. 1.]\n",
      "[1. 0. 1. 1. 0. 1. 0.]\n",
      "[1. 1. 0. 0. 1. 1. 0.]\n",
      "[1. 1. 0. 1. 0. 0. 1.]\n",
      "[1. 1. 1. 0. 0. 0. 0.]\n",
      "[1. 1. 1. 1. 1. 1. 1.]\n"
     ]
    }
   ],
   "source": [
    "import numpy as np\n",
    "\n",
    "def generator_mat_Hamming():\n",
    "    G = np.array([ [0, 1, 1, 1],  [1, 0, 1, 1], [1, 1, 0, 1] ]).transpose()\n",
    "    G = np.append(np.eye(4), G, axis=1)\n",
    "    print(\"Generator matrix = \\n\", G)\n",
    "    return G\n",
    "    \n",
    "def encoding(msg, G):\n",
    "    # msg should be a row vector of dim 4 for Hamming code\n",
    "    return np.matmul(msg, G) % 2\n",
    "    \n",
    "def encoding_int(n, G):\n",
    "    m = np.array(  [int(i) for i in '{0:06b}'.format(n)[2:]]  )\n",
    "    return encoding(m, G)\n",
    "\n",
    "G = generator_mat_Hamming()\n",
    "print(\"All codewords: \")\n",
    "for n in range(16):\n",
    "    enc_m = encoding_int(n, G)\n",
    "    print(enc_m) #\"Codeword for %d = \" % n, \n",
    "    "
   ]
  },
  {
   "cell_type": "markdown",
   "metadata": {},
   "source": [
    "## Example: Syndrome decoding using $[7,4]$ Hamming code"
   ]
  },
  {
   "cell_type": "code",
   "execution_count": 2,
   "metadata": {},
   "outputs": [
    {
     "name": "stdout",
     "output_type": "stream",
     "text": [
      "Parity check matrix = \n",
      " [[0. 1. 1. 1. 1. 0. 0.]\n",
      " [1. 0. 1. 1. 0. 1. 0.]\n",
      " [1. 1. 0. 1. 0. 0. 1.]]\n",
      "Syndrome = \n",
      " [[0.]\n",
      " [0.]\n",
      " [1.]]\n",
      "Error at bit No. 7\n",
      "Decoded message =  [1 1 0 0]\n",
      "-> decimal number 12\n"
     ]
    }
   ],
   "source": [
    "def dec_Hamming(msg):\n",
    "    # msg should be a row vector of dim 7\n",
    "    msg = msg.reshape([1, 7])\n",
    "    H = np.array([ [0, 1, 1, 1],  [1, 0, 1, 1], [1, 1, 0, 1] ]) \n",
    "    H = np.append(H, np.eye(3), axis=1)\n",
    "    print(\"Parity check matrix = \\n\", H)\n",
    "    syndrome = np.matmul(H, msg.transpose()) % 2\n",
    "    print(\"Syndrome = \\n\", syndrome) \n",
    "\n",
    "    # error-correcting\n",
    "    b = np.where(np.all(H[:, :] == syndrome, axis=0))\n",
    "    if b[0].size == 0:\n",
    "        print(\"No error\")\n",
    "        dec_msg = msg[0]\n",
    "    else:\n",
    "        print(\"Error at bit No.\", b[0][0]+1)\n",
    "        dec_msg  = np.array([ 1-msg[0][i] if i==b[0][0] else msg[0][i] for i in range(7) ])\n",
    "\n",
    "    return dec_msg[0: 4]\n",
    "\n",
    "m = np.array([1, 1, 0, 0, 1, 1 , 1])\n",
    "dec_m = dec_Hamming(m)\n",
    "\n",
    "print(\"Decoded message = \", dec_m) \n",
    "print(\"-> decimal number\",  np.matmul([8,4,2,1], dec_m))"
   ]
  },
  {
   "cell_type": "code",
   "execution_count": 3,
   "metadata": {},
   "outputs": [
    {
     "name": "stdout",
     "output_type": "stream",
     "text": [
      "Last updated at  2021-08-30 08:40:16\n"
     ]
    }
   ],
   "source": [
    "from datetime import datetime\n",
    "from pytz import timezone\n",
    "\n",
    "lastest_time = datetime.now(timezone('Asia/Tokyo'))\n",
    "print(\"Last updated at \", lastest_time.strftime('%Y-%m-%d %H:%M:%S'))"
   ]
  }
 ],
 "metadata": {
  "kernelspec": {
   "display_name": "Python 3",
   "language": "python",
   "name": "python3"
  },
  "language_info": {
   "codemirror_mode": {
    "name": "ipython",
    "version": 3
   },
   "file_extension": ".py",
   "mimetype": "text/x-python",
   "name": "python",
   "nbconvert_exporter": "python",
   "pygments_lexer": "ipython3",
   "version": "3.8.5"
  }
 },
 "nbformat": 4,
 "nbformat_minor": 4
}
